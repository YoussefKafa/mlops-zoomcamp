{
 "cells": [
  {
   "cell_type": "code",
   "execution_count": 1,
   "id": "b2bd82d7",
   "metadata": {},
   "outputs": [
    {
     "name": "stdout",
     "output_type": "stream",
     "text": [
      "Python 3.13.5\n"
     ]
    }
   ],
   "source": [
    "#python version\n",
    "!python -V"
   ]
  },
  {
   "cell_type": "code",
   "execution_count": 14,
   "id": "41062d8a",
   "metadata": {},
   "outputs": [],
   "source": [
    "import pandas as pd #like excel-in-python"
   ]
  },
  {
   "cell_type": "code",
   "execution_count": 7,
   "id": "c984c564",
   "metadata": {},
   "outputs": [
    {
     "data": {
      "text/plain": [
       "'\\n The pickle library in Python is a built-in module that provides a way to serialize and deserialize Python objects.\\nThis process, known as pickling and unpickling,\\n allows you to convert Python objects into a byte stream (serialization) and then reconstruct them from that byte stream (deserialization).\\n'"
      ]
     },
     "execution_count": 7,
     "metadata": {},
     "output_type": "execute_result"
    }
   ],
   "source": [
    "import pickle \n",
    "\"\"\"\n",
    " The pickle library in Python is a built-in module that provides a way to serialize and deserialize Python objects.\n",
    "This process, known as pickling and unpickling,\n",
    " allows you to convert Python objects into a byte stream (serialization) and then reconstruct them from that byte stream (deserialization).\n",
    "\"\"\"\n"
   ]
  },
  {
   "cell_type": "code",
   "execution_count": 8,
   "id": "4add538c",
   "metadata": {},
   "outputs": [],
   "source": [
    "import seaborn as sns #our paintbrush\n",
    "import matplotlib.pyplot as plt #paintbrush basic"
   ]
  },
  {
   "cell_type": "code",
   "execution_count": 12,
   "id": "8b135c2b",
   "metadata": {},
   "outputs": [],
   "source": [
    "#sklearn, short for Scikit-learn, is like a Swiss army knife for machine learning in Python\n",
    "# with sklearn you can prepare data, train, evaluate, and predict\n",
    "from sklearn.feature_extraction import DictVectorizer #turns a dictionary into vectors [0,1,1,0,0] for machine to understand\n",
    "from sklearn.linear_model import LinearRegression # draw a straight line throw that fits the points\n",
    "from sklearn.linear_model import Lasso \n",
    "\"\"\"\n",
    "Lasso is a smarter version of linear regression that tries to ignore unnecessary data.\n",
    "It says:\n",
    "“Hey, I’ll still draw a line—but if I see a feature (column) that isn’t helping, I’ll shrink its importance down to zero.”\n",
    "\"\"\"\n",
    "from sklearn.linear_model import Ridge\n",
    "\"\"\"\n",
    "Ridge is another upgraded version of Linear Regression.\n",
    "\n",
    "Instead of cutting features to zero like Lasso, Ridge says:\n",
    "\n",
    "“I’ll keep all features, but I’ll gently reduce their impact if they’re too wild.”\n",
    "\"\"\"\n",
    "from sklearn.metrics import root_mean_squared_error #accuracy scorecard, on average, how big are my mistakes? the lower the better\n"
   ]
  },
  {
   "cell_type": "code",
   "execution_count": 22,
   "id": "8e013caf",
   "metadata": {},
   "outputs": [
    {
     "name": "stdout",
     "output_type": "stream",
     "text": [
      "   VendorID lpep_pickup_datetime lpep_dropoff_datetime store_and_fwd_flag  \\\n",
      "0         2  2021-01-01 00:15:56   2021-01-01 00:19:52                  N   \n",
      "1         2  2021-01-01 00:25:59   2021-01-01 00:34:44                  N   \n",
      "2         2  2021-01-01 00:45:57   2021-01-01 00:51:55                  N   \n",
      "3         2  2020-12-31 23:57:51   2021-01-01 00:04:56                  N   \n",
      "4         2  2021-01-01 00:16:36   2021-01-01 00:16:40                  N   \n",
      "5         2  2021-01-01 00:16:36   2021-01-01 00:16:40                  N   \n",
      "6         2  2021-01-01 00:19:14   2021-01-01 00:19:21                  N   \n",
      "7         2  2021-01-01 00:26:31   2021-01-01 00:28:50                  N   \n",
      "8         2  2021-01-01 00:57:46   2021-01-01 00:57:57                  N   \n",
      "9         2  2021-01-01 00:58:32   2021-01-01 01:32:34                  N   \n",
      "\n",
      "   RatecodeID  PULocationID  DOLocationID  passenger_count  trip_distance  \\\n",
      "0         1.0            43           151              1.0           1.01   \n",
      "1         1.0           166           239              1.0           2.53   \n",
      "2         1.0            41            42              1.0           1.12   \n",
      "3         1.0           168            75              1.0           1.99   \n",
      "4         2.0           265           265              3.0           0.00   \n",
      "5         2.0           265           265              3.0           0.00   \n",
      "6         5.0           265           265              1.0           0.00   \n",
      "7         1.0            75            75              6.0           0.45   \n",
      "8         1.0           225           225              1.0           0.00   \n",
      "9         1.0           225           265              1.0          12.19   \n",
      "\n",
      "   fare_amount  extra  mta_tax  tip_amount  tolls_amount ehail_fee  \\\n",
      "0          5.5    0.5      0.5        0.00           0.0      None   \n",
      "1         10.0    0.5      0.5        2.81           0.0      None   \n",
      "2          6.0    0.5      0.5        1.00           0.0      None   \n",
      "3          8.0    0.5      0.5        0.00           0.0      None   \n",
      "4        -52.0    0.0     -0.5        0.00           0.0      None   \n",
      "5         52.0    0.0      0.5        0.00           0.0      None   \n",
      "6        180.0    0.0      0.0       36.06           0.0      None   \n",
      "7          3.5    0.5      0.5        0.96           0.0      None   \n",
      "8          2.5    0.5      0.5        0.00           0.0      None   \n",
      "9         38.0    0.5      0.5        2.75           0.0      None   \n",
      "\n",
      "   improvement_surcharge  total_amount  payment_type  trip_type  \\\n",
      "0                    0.3          6.80           2.0        1.0   \n",
      "1                    0.3         16.86           1.0        1.0   \n",
      "2                    0.3          8.30           1.0        1.0   \n",
      "3                    0.3          9.30           2.0        1.0   \n",
      "4                   -0.3        -52.80           3.0        1.0   \n",
      "5                    0.3         52.80           2.0        1.0   \n",
      "6                    0.3        216.36           1.0        2.0   \n",
      "7                    0.3          5.76           1.0        1.0   \n",
      "8                    0.3          3.80           2.0        1.0   \n",
      "9                    0.3         42.05           1.0        1.0   \n",
      "\n",
      "   congestion_surcharge  \n",
      "0                  0.00  \n",
      "1                  2.75  \n",
      "2                  0.00  \n",
      "3                  0.00  \n",
      "4                  0.00  \n",
      "5                  0.00  \n",
      "6                  0.00  \n",
      "7                  0.00  \n",
      "8                  0.00  \n",
      "9                  0.00  \n",
      "       VendorID lpep_pickup_datetime lpep_dropoff_datetime store_and_fwd_flag  \\\n",
      "76508         2  2021-01-31 20:17:00   2021-01-31 20:35:00               None   \n",
      "76509         2  2021-01-31 20:23:00   2021-01-31 20:41:00               None   \n",
      "76510         2  2021-01-31 21:09:00   2021-01-31 21:23:00               None   \n",
      "76511         2  2021-01-31 21:33:00   2021-01-31 22:18:00               None   \n",
      "76512         2  2021-01-31 21:58:00   2021-01-31 22:47:00               None   \n",
      "76513         2  2021-01-31 21:38:00   2021-01-31 22:16:00               None   \n",
      "76514         2  2021-01-31 22:43:00   2021-01-31 23:21:00               None   \n",
      "76515         2  2021-01-31 22:16:00   2021-01-31 22:27:00               None   \n",
      "76516         2  2021-01-31 23:10:00   2021-01-31 23:37:00               None   \n",
      "76517         2  2021-01-31 23:25:00   2021-01-31 23:35:00               None   \n",
      "\n",
      "       RatecodeID  PULocationID  DOLocationID  passenger_count  trip_distance  \\\n",
      "76508         NaN           108           210              NaN           5.05   \n",
      "76509         NaN            60           254              NaN           5.33   \n",
      "76510         NaN           174           213              NaN           5.18   \n",
      "76511         NaN           136           225              NaN          17.13   \n",
      "76512         NaN           218            41              NaN          18.18   \n",
      "76513         NaN            81            90              NaN          17.63   \n",
      "76514         NaN            35           213              NaN          18.36   \n",
      "76515         NaN            74            69              NaN           2.50   \n",
      "76516         NaN           168           215              NaN          14.48   \n",
      "76517         NaN           119           244              NaN           1.81   \n",
      "\n",
      "       fare_amount  extra  mta_tax  tip_amount  tolls_amount ehail_fee  \\\n",
      "76508        25.95   2.75      0.0         0.0          0.00      None   \n",
      "76509        29.45   2.75      0.0         0.0          0.00      None   \n",
      "76510        29.45   2.75      0.0         0.0          0.00      None   \n",
      "76511        71.83   2.75      0.0         0.0          6.12      None   \n",
      "76512        56.86   2.75      0.0         0.0          6.12      None   \n",
      "76513        56.23   2.75      0.0         0.0          6.12      None   \n",
      "76514        46.66   0.00      0.0        12.2          6.12      None   \n",
      "76515        18.95   2.75      0.0         0.0          0.00      None   \n",
      "76516        48.87   2.75      0.0         0.0          6.12      None   \n",
      "76517        15.45   2.75      0.0         0.0          0.00      None   \n",
      "\n",
      "       improvement_surcharge  total_amount  payment_type  trip_type  \\\n",
      "76508                    0.3         29.00           NaN        NaN   \n",
      "76509                    0.3         32.50           NaN        NaN   \n",
      "76510                    0.3         32.50           NaN        NaN   \n",
      "76511                    0.3         81.00           NaN        NaN   \n",
      "76512                    0.3         66.03           NaN        NaN   \n",
      "76513                    0.3         65.40           NaN        NaN   \n",
      "76514                    0.3         65.28           NaN        NaN   \n",
      "76515                    0.3         22.00           NaN        NaN   \n",
      "76516                    0.3         58.04           NaN        NaN   \n",
      "76517                    0.3         18.50           NaN        NaN   \n",
      "\n",
      "       congestion_surcharge  \n",
      "76508                   NaN  \n",
      "76509                   NaN  \n",
      "76510                   NaN  \n",
      "76511                   NaN  \n",
      "76512                   NaN  \n",
      "76513                   NaN  \n",
      "76514                   NaN  \n",
      "76515                   NaN  \n",
      "76516                   NaN  \n",
      "76517                   NaN  \n"
     ]
    }
   ],
   "source": [
    "df = pd.read_parquet('../data/green_tripdata_2021-01.parquet') #read the parquet file (columnar data) into a dataframe ( a spreadsheet or a table in python)\n",
    "print(df.head(10))\n",
    "print(df.tail(10))\n",
    "df['duration'] = df.lpep_dropoff_datetime - df.lpep_pickup_datetime #define the duration column (feature) which is dropoff time - pickup time\n",
    "df.duration = df.duration.apply(lambda td: td.total_seconds() / 60) #convert to minutes\n",
    "#A timedelta object represents a duration of time, not a specific date.\n",
    "df = df[(df.duration >= 1) & (df.duration <= 60)] #keep only from 1 to 60\n",
    "\n",
    "categorical = ['PULocationID', 'DOLocationID'] #define them as categories so it does not intercept them as integers\n",
    "numerical = ['trip_distance'] #keep this one numerical\n",
    "\n"
   ]
  },
  {
   "cell_type": "code",
   "execution_count": 24,
   "id": "116ff0cc",
   "metadata": {},
   "outputs": [
    {
     "name": "stdout",
     "output_type": "stream",
     "text": [
      "[ 7.66699166 13.74297398  8.40093639 ... 14.10827344 17.00908765\n",
      " 19.87761864]\n"
     ]
    },
    {
     "data": {
      "text/plain": [
       "9.838799799825003"
      ]
     },
     "execution_count": 24,
     "metadata": {},
     "output_type": "execute_result"
    }
   ],
   "source": [
    "df[categorical] = df[categorical].astype(str) # convert the values in the columns (that are in categorical) to strings instead of numbers  # grab the categorical values and convert them to strings, numbers means they are all as important as others\n",
    "train_dicts = df[categorical + numerical].to_dict(orient='records') #concatenate the two lists into one and convert them to dictionaries ( each row now become a dictionary [\"PULocationID\", \"DOLocationID, \"trip_distance\"] )\n",
    "dv = DictVectorizer() # this is a translator to translate the dictionaries into numeric arrays python understands ( a dictionary-to-numbers compiler )\n",
    "\n",
    "#now we want to fit and transform, the fit will learn what categories we have and what numeric columns we have , and then transform will turn them into numeric rows python understands\n",
    "#fit ( learn the rules from data ) and transform ( apply those rules to turn data into numbers)\n",
    "\n",
    "X_train = dv.fit_transform(train_dicts) \n",
    "\n",
    "target = 'duration' # the column we want to predict\n",
    "y_train = df[target].values # get the target column and convert it to an array of numbers [12.3, 5.7 .. ]\n",
    "\n",
    "lr = LinearRegression() #create a LinearRegression model and call it lr\n",
    "lr.fit(X_train, y_train) # give the model the input features and the correct answers, the model now learns this data and figures out the best set of weights to connect the input to the output\n",
    "\n",
    "y_pred = lr.predict(X_train) # now we give the model the same inputs and ask, now that you've learned, what do you think the answers are, it applies the learning formula and outputs predicted durations\n",
    "print(y_pred)\n",
    "root_mean_squared_error(y_train, y_pred) #on average, how many mintes off are we?, if it is 9, then we're off by 9 minutes"
   ]
  },
  {
   "cell_type": "code",
   "execution_count": 8,
   "id": "b134c97b",
   "metadata": {},
   "outputs": [
    {
     "name": "stderr",
     "output_type": "stream",
     "text": [
      "/home/ubuntu/anaconda3/lib/python3.9/site-packages/seaborn/distributions.py:2619: FutureWarning: `distplot` is a deprecated function and will be removed in a future version. Please adapt your code to use either `displot` (a figure-level function with similar flexibility) or `histplot` (an axes-level function for histograms).\n",
      "  warnings.warn(msg, FutureWarning)\n",
      "/home/ubuntu/anaconda3/lib/python3.9/site-packages/seaborn/distributions.py:2619: FutureWarning: `distplot` is a deprecated function and will be removed in a future version. Please adapt your code to use either `displot` (a figure-level function with similar flexibility) or `histplot` (an axes-level function for histograms).\n",
      "  warnings.warn(msg, FutureWarning)\n"
     ]
    },
    {
     "data": {
      "text/plain": [
       "<matplotlib.legend.Legend at 0x7fb6397fad60>"
      ]
     },
     "execution_count": 8,
     "metadata": {},
     "output_type": "execute_result"
    },
    {
     "data": {
      "image/png": "[encoded data removed]",
      "text/plain": [
       "<Figure size 432x288 with 1 Axes>"
      ]
     },
     "metadata": {
      "needs_background": "light"
     },
     "output_type": "display_data"
    }
   ],
   "source": [
    "sns.distplot(y_pred, label='prediction')\n",
    "sns.distplot(y_train, label='actual')\n",
    "\n",
    "plt.legend()\n",
    "#the model tends to predict trips as longer and more average than they really are.\n",
    "\n",
    "#The orange curve spreads wider (some very short, some very long).\n",
    "\n",
    "#The blue curve is more concentrated — the model doesn’t dare predict extremes, it sticks to the safe middle."
   ]
  },
  {
   "cell_type": "code",
   "execution_count": 27,
   "id": "f9e6479e",
   "metadata": {},
   "outputs": [],
   "source": [
    "# a helper function to read a parquet file, and return a cleaned df\n",
    "# \n",
    "def read_dataframe(filename):\n",
    "    if filename.endswith('.csv'):\n",
    "        df = pd.read_csv(filename)\n",
    "\n",
    "        df.lpep_dropoff_datetime = pd.to_datetime(df.lpep_dropoff_datetime)\n",
    "        df.lpep_pickup_datetime = pd.to_datetime(df.lpep_pickup_datetime)\n",
    "    elif filename.endswith('.parquet'):\n",
    "        df = pd.read_parquet(filename)\n",
    "\n",
    "    df['duration'] = df.lpep_dropoff_datetime - df.lpep_pickup_datetime\n",
    "    df.duration = df.duration.apply(lambda td: td.total_seconds() / 60)\n",
    "\n",
    "    df = df[(df.duration >= 1) & (df.duration <= 60)]\n",
    "\n",
    "    categorical = ['PULocationID', 'DOLocationID']\n",
    "    df[categorical] = df[categorical].astype(str)\n",
    "    \n",
    "    return df"
   ]
  },
  {
   "cell_type": "code",
   "execution_count": 29,
   "id": "8029eba0",
   "metadata": {},
   "outputs": [],
   "source": [
    "#read one file for training and one for validation\n",
    "df_train = read_dataframe('../data/green_tripdata_2021-01.parquet')\n",
    "df_val = read_dataframe('../data/green_tripdata_2021-02.parquet')"
   ]
  },
  {
   "cell_type": "code",
   "execution_count": 30,
   "id": "f6f2f0eb",
   "metadata": {},
   "outputs": [
    {
     "data": {
      "text/plain": [
       "(73908, 61921)"
      ]
     },
     "execution_count": 30,
     "metadata": {},
     "output_type": "execute_result"
    }
   ],
   "source": [
    "len(df_train), len(df_val)"
   ]
  },
  {
   "cell_type": "code",
   "execution_count": 31,
   "id": "951d51ef",
   "metadata": {},
   "outputs": [],
   "source": [
    "\"\"\"\n",
    "Make a new column PU_DO by concatenating pickup and dropoff IDs (e.g., \"130_205\").\n",
    "\n",
    "This captures routes, not just isolated locations.\n",
    "\n",
    "Example: \"JFK → Manhattan\" might behave differently than \"Brooklyn → Manhattan\" even if distance is similar.\n",
    "\"\"\"\n",
    "df_train['PU_DO'] = df_train['PULocationID'] + '_' + df_train['DOLocationID']\n",
    "df_val['PU_DO'] = df_val['PULocationID'] + '_' + df_val['DOLocationID']"
   ]
  },
  {
   "cell_type": "code",
   "execution_count": 33,
   "id": "c5cbfc25",
   "metadata": {},
   "outputs": [],
   "source": [
    "\"\"\"\n",
    "Now we only use the combined categorical PU_DO instead of separate PU/DO.\n",
    "\n",
    "Still keep trip_distance as a numeric feature.\n",
    "\n",
    "So our model has 2 types of features: route + distance.\n",
    "\"\"\"\n",
    "categorical = ['PU_DO'] #'PULocationID', 'DOLocationID']\n",
    "numerical = ['trip_distance']\n",
    "\n",
    "dv = DictVectorizer()\n",
    "\n",
    "train_dicts = df_train[categorical + numerical].to_dict(orient='records')\n",
    "\"\"\"\n",
    "Select the categorical + numeric columns.\n",
    "\n",
    "Convert rows into list of dicts.\n",
    "\n",
    "fit_transform: learn the feature mapping and build the training matrix.\n",
    "\"\"\"\n",
    "X_train = dv.fit_transform(train_dicts)\n",
    "\n",
    "val_dicts = df_val[categorical + numerical].to_dict(orient='records')\n",
    "\"\"\"\n",
    "Do the same conversion to dicts.\n",
    "\n",
    "Only call transform (not fit) — use the same mapping learned on training data.\n",
    "\n",
    "Ensures columns match between training and validation.\n",
    "\"\"\"\n",
    "\n",
    "X_val = dv.transform(val_dicts)"
   ]
  },
  {
   "cell_type": "code",
   "execution_count": 34,
   "id": "1e9fb68b",
   "metadata": {},
   "outputs": [],
   "source": [
    "target = 'duration'\n",
    "y_train = df_train[target].values\n",
    "y_val = df_val[target].values"
   ]
  },
  {
   "cell_type": "code",
   "execution_count": 36,
   "id": "429e2394",
   "metadata": {},
   "outputs": [
    {
     "name": "stderr",
     "output_type": "stream",
     "text": [
      "/tmp/ipykernel_6149/3860639932.py:1: UserWarning: \n",
      "\n",
      "`distplot` is a deprecated function and will be removed in seaborn v0.14.0.\n",
      "\n",
      "Please adapt your code to use either `displot` (a figure-level function with\n",
      "similar flexibility) or `histplot` (an axes-level function for histograms).\n",
      "\n",
      "For a guide to updating your code to use the new functions, please see\n",
      "https://gist.github.com/mwaskom/de44147ed2974457ad6372750bbe5751\n",
      "\n",
      "  sns.distplot(y_train, label='prediction')\n",
      "/tmp/ipykernel_6149/3860639932.py:2: UserWarning: \n",
      "\n",
      "`distplot` is a deprecated function and will be removed in seaborn v0.14.0.\n",
      "\n",
      "Please adapt your code to use either `displot` (a figure-level function with\n",
      "similar flexibility) or `histplot` (an axes-level function for histograms).\n",
      "\n",
      "For a guide to updating your code to use the new functions, please see\n",
      "https://gist.github.com/mwaskom/de44147ed2974457ad6372750bbe5751\n",
      "\n",
      "  sns.distplot(y_val, label='actual')\n"
     ]
    },
    {
     "data": {
      "text/plain": [
       "<matplotlib.legend.Legend at 0x7f1c9f9d9be0>"
      ]
     },
     "execution_count": 36,
     "metadata": {},
     "output_type": "execute_result"
    },
    {
     "data": {
      "image/png": "[encoded data removed]",
      "text/plain": [
       "<Figure size 640x480 with 1 Axes>"
      ]
     },
     "metadata": {},
     "output_type": "display_data"
    }
   ],
   "source": [
    "sns.distplot(y_train, label='prediction')\n",
    "sns.distplot(y_val, label='actual')\n",
    "\n",
    "plt.legend()"
   ]
  },
  {
   "cell_type": "code",
   "execution_count": 37,
   "id": "79d1608f-9df1-4ec3-9c50-8f33524c88e3",
   "metadata": {},
   "outputs": [
    {
     "data": {
      "text/plain": [
       "7.75871520645115"
      ]
     },
     "execution_count": 37,
     "metadata": {},
     "output_type": "execute_result"
    }
   ],
   "source": [
    "lr = LinearRegression()\n",
    "lr.fit(X_train, y_train)\n",
    "\n",
    "y_pred = lr.predict(X_val)\n",
    "\n",
    "root_mean_squared_error(y_val, y_pred)"
   ]
  },
  {
   "cell_type": "code",
   "execution_count": 38,
   "id": "22bf6f8b",
   "metadata": {},
   "outputs": [
    {
     "ename": "FileNotFoundError",
     "evalue": "[Errno 2] No such file or directory: 'models/lin_reg.bin'",
     "output_type": "error",
     "traceback": [
      "\u001b[0;31m---------------------------------------------------------------------------\u001b[0m",
      "\u001b[0;31mFileNotFoundError\u001b[0m                         Traceback (most recent call last)",
      "Cell \u001b[0;32mIn[38], line 1\u001b[0m\n\u001b[0;32m----> 1\u001b[0m \u001b[38;5;28;01mwith\u001b[39;00m \u001b[38;5;28mopen\u001b[39m(\u001b[38;5;124m'\u001b[39m\u001b[38;5;124mmodels/lin_reg.bin\u001b[39m\u001b[38;5;124m'\u001b[39m, \u001b[38;5;124m'\u001b[39m\u001b[38;5;124mwb\u001b[39m\u001b[38;5;124m'\u001b[39m) \u001b[38;5;28;01mas\u001b[39;00m f_out:\n\u001b[1;32m      2\u001b[0m     pickle\u001b[38;5;241m.\u001b[39mdump((dv, lr), f_out)\n",
      "File \u001b[0;32m~/anaconda3/lib/python3.13/site-packages/IPython/core/interactiveshell.py:324\u001b[0m, in \u001b[0;36m_modified_open\u001b[0;34m(file, *args, **kwargs)\u001b[0m\n\u001b[1;32m    317\u001b[0m \u001b[38;5;28;01mif\u001b[39;00m file \u001b[38;5;129;01min\u001b[39;00m {\u001b[38;5;241m0\u001b[39m, \u001b[38;5;241m1\u001b[39m, \u001b[38;5;241m2\u001b[39m}:\n\u001b[1;32m    318\u001b[0m     \u001b[38;5;28;01mraise\u001b[39;00m \u001b[38;5;167;01mValueError\u001b[39;00m(\n\u001b[1;32m    319\u001b[0m         \u001b[38;5;124mf\u001b[39m\u001b[38;5;124m\"\u001b[39m\u001b[38;5;124mIPython won\u001b[39m\u001b[38;5;124m'\u001b[39m\u001b[38;5;124mt let you open fd=\u001b[39m\u001b[38;5;132;01m{\u001b[39;00mfile\u001b[38;5;132;01m}\u001b[39;00m\u001b[38;5;124m by default \u001b[39m\u001b[38;5;124m\"\u001b[39m\n\u001b[1;32m    320\u001b[0m         \u001b[38;5;124m\"\u001b[39m\u001b[38;5;124mas it is likely to crash IPython. If you know what you are doing, \u001b[39m\u001b[38;5;124m\"\u001b[39m\n\u001b[1;32m    321\u001b[0m         \u001b[38;5;124m\"\u001b[39m\u001b[38;5;124myou can use builtins\u001b[39m\u001b[38;5;124m'\u001b[39m\u001b[38;5;124m open.\u001b[39m\u001b[38;5;124m\"\u001b[39m\n\u001b[1;32m    322\u001b[0m     )\n\u001b[0;32m--> 324\u001b[0m \u001b[38;5;28;01mreturn\u001b[39;00m io_open(file, \u001b[38;5;241m*\u001b[39margs, \u001b[38;5;241m*\u001b[39m\u001b[38;5;241m*\u001b[39mkwargs)\n",
      "\u001b[0;31mFileNotFoundError\u001b[0m: [Errno 2] No such file or directory: 'models/lin_reg.bin'"
     ]
    }
   ],
   "source": [
    "#save the model & vectorizer we already trained\n",
    "with open('models/lin_reg.bin', 'wb') as f_out:\n",
    "    pickle.dump((dv, lr), f_out)"
   ]
  },
  {
   "cell_type": "code",
   "execution_count": 40,
   "id": "a4999b94",
   "metadata": {},
   "outputs": [
    {
     "data": {
      "text/plain": [
       "11.167275941179728"
      ]
     },
     "execution_count": 40,
     "metadata": {},
     "output_type": "execute_result"
    }
   ],
   "source": [
    "#try out a different model (Lasso regression) to see if it does better\n",
    "\"\"\"\n",
    "Create a new regression model, but this time it’s Lasso instead of plain LinearRegression.\n",
    "\n",
    "0.01 is the alpha parameter (regularization strength).\n",
    "\n",
    "Larger alpha = stronger penalty, forces the model to shrink or zero-out less important coefficients.\n",
    "\n",
    "This helps prevent overfitting, especially with many categorical variables.\n",
    "\n",
    "👉 In plain English: Lasso says “hey, keep it simple — don’t rely too heavily on too many features.”\n",
    "\"\"\"\n",
    "lr = Lasso(0.01)\n",
    "lr.fit(X_train, y_train)\n",
    "\n",
    "y_pred = lr.predict(X_val)\n",
    "\n",
    "root_mean_squared_error(y_val, y_pred)"
   ]
  },
  {
   "cell_type": "code",
   "execution_count": null,
   "id": "47b0eb9b",
   "metadata": {},
   "outputs": [],
   "source": []
  }
 ],
 "metadata": {
  "kernelspec": {
   "display_name": "Python 3 (ipykernel)",
   "language": "python",
   "name": "python3"
  },
  "language_info": {
   "codemirror_mode": {
    "name": "ipython",
    "version": 3
   },
   "file_extension": ".py",
   "mimetype": "text/x-python",
   "name": "python",
   "nbconvert_exporter": "python",
   "pygments_lexer": "ipython3",
   "version": "3.13.5"
  }
 },
 "nbformat": 4,
 "nbformat_minor": 5
}
